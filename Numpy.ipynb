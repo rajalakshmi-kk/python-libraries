{
 "cells": [
  {
   "cell_type": "markdown",
   "metadata": {},
   "source": [
    "## dim of array"
   ]
  },
  {
   "cell_type": "code",
   "execution_count": 15,
   "metadata": {},
   "outputs": [
    {
     "name": "stdout",
     "output_type": "stream",
     "text": [
      "0\n",
      "1\n",
      "2\n",
      "3\n"
     ]
    }
   ],
   "source": [
    "import numpy as np\n",
    "\n",
    "a = np.array(42)\n",
    "b = np.array([1, 2, 3, 4, 5])\n",
    "c = np.array([[1, 2, 3], [4, 5, 6]])\n",
    "d = np.array([[[1, 2, 3], [4, 5, 6]], [[1, 2, 3], [4, 5, 6]]])\n",
    "\n",
    "print(a.ndim)\n",
    "print(b.ndim)\n",
    "print(c.ndim)\n",
    "print(d.ndim)"
   ]
  },
  {
   "cell_type": "code",
   "execution_count": 16,
   "metadata": {},
   "outputs": [
    {
     "name": "stdout",
     "output_type": "stream",
     "text": [
      "[[[[[1 2 3 4]]]]]\n",
      "number of dimensions : 5\n"
     ]
    }
   ],
   "source": [
    "import numpy as np\n",
    "\n",
    "arr = np.array([1, 2, 3, 4], ndmin=5)\n",
    "\n",
    "print(arr)\n",
    "print('number of dimensions :', arr.ndim)"
   ]
  },
  {
   "cell_type": "markdown",
   "metadata": {},
   "source": [
    "## array indexing"
   ]
  },
  {
   "cell_type": "code",
   "execution_count": 17,
   "metadata": {},
   "outputs": [
    {
     "name": "stdout",
     "output_type": "stream",
     "text": [
      "2nd element on 1st dim:  2\n"
     ]
    }
   ],
   "source": [
    "import numpy as np\n",
    "\n",
    "arr = np.array([[1,2,3,4,5], [6,7,8,9,10]])\n",
    "\n",
    "print('2nd element on 1st dim: ', arr[0, 1])\n"
   ]
  },
  {
   "cell_type": "code",
   "execution_count": 18,
   "metadata": {},
   "outputs": [
    {
     "name": "stdout",
     "output_type": "stream",
     "text": [
      "6\n"
     ]
    }
   ],
   "source": [
    "import numpy as np\n",
    "\n",
    "arr = np.array([[[1, 2, 3], [4, 5, 6]], [[7, 8, 9], [10, 11, 12]]])\n",
    "\n",
    "print(arr[0, 1, 2])"
   ]
  },
  {
   "cell_type": "markdown",
   "metadata": {},
   "source": [
    "## Slicing arrays"
   ]
  },
  {
   "cell_type": "code",
   "execution_count": 19,
   "metadata": {},
   "outputs": [
    {
     "name": "stdout",
     "output_type": "stream",
     "text": [
      "[2 3 4 5]\n",
      "[2 3 4 5]\n"
     ]
    }
   ],
   "source": [
    "# import numpy as import numpy as np\n",
    "# arange() is an inbuilt numpy function that returns an ndarray object containing evenly spaced values within a defined interval\n",
    "arr = np.array([1, 2, 3, 4, 5, 6, 7])\n",
    "\n",
    "print(arr[1:5])\n",
    "arr = np.array([1, 2, 3, 4, 5, 6, 7])\n",
    "\n",
    "# with start and stop\n",
    "print(arr[1:5])"
   ]
  },
  {
   "cell_type": "code",
   "execution_count": 20,
   "metadata": {},
   "outputs": [
    {
     "name": "stdout",
     "output_type": "stream",
     "text": [
      "[5 6 7]\n"
     ]
    }
   ],
   "source": [
    "import numpy as np\n",
    "\n",
    "arr = np.array([1, 2, 3, 4, 5, 6, 7])\n",
    "\n",
    "# without stop\n",
    "print(arr[4:])"
   ]
  },
  {
   "cell_type": "code",
   "execution_count": 21,
   "metadata": {},
   "outputs": [
    {
     "name": "stdout",
     "output_type": "stream",
     "text": [
      "[1 2 3 4]\n"
     ]
    }
   ],
   "source": [
    "import numpy as np\n",
    "\n",
    "arr = np.array([1, 2, 3, 4, 5, 6, 7])\n",
    "\n",
    "# without start\n",
    "print(arr[:4])"
   ]
  },
  {
   "cell_type": "code",
   "execution_count": 22,
   "metadata": {},
   "outputs": [
    {
     "name": "stdout",
     "output_type": "stream",
     "text": [
      "[2 4]\n"
     ]
    }
   ],
   "source": [
    "import numpy as np\n",
    "\n",
    "arr = np.array([1, 2, 3, 4, 5, 6, 7])\n",
    "\n",
    "# with start, stop,and step\n",
    "print(arr[1:5:2])"
   ]
  },
  {
   "cell_type": "code",
   "execution_count": 23,
   "metadata": {},
   "outputs": [
    {
     "name": "stdout",
     "output_type": "stream",
     "text": [
      "[7 8 9]\n"
     ]
    }
   ],
   "source": [
    "import numpy as np\n",
    "\n",
    "arr = np.array([[1, 2, 3, 4, 5], [6, 7, 8, 9, 10]])\n",
    "\n",
    "# to print the elements from 2nd row,\n",
    "print(arr[1, 1:4])"
   ]
  },
  {
   "cell_type": "code",
   "execution_count": 83,
   "metadata": {},
   "outputs": [
    {
     "name": "stdout",
     "output_type": "stream",
     "text": [
      "the array is:\n",
      " [[ 1  2  3  4  5]\n",
      " [ 6  7  8  9 10]]\n",
      "the log space ary is:\n",
      " [10.]\n"
     ]
    }
   ],
   "source": [
    "# LogSpace returns even spaced numbers on a log scale. Logspace has the same parameters as np.linspace.\n",
    "\n",
    "import numpy as np\n",
    "\n",
    "arr = np.array([[1, 2, 3, 4, 5], [6, 7, 8, 9, 10]])\n",
    "print(\"the array is:\\n\",arr)\n",
    "lg=np.logspace(1, 4, 1)\n",
    "print(\"the log space ary is:\\n\",lg)"
   ]
  },
  {
   "cell_type": "code",
   "execution_count": 84,
   "metadata": {},
   "outputs": [
    {
     "name": "stdout",
     "output_type": "stream",
     "text": [
      "The array over the given range is  [1.00000000e+10 3.16227766e+12 1.00000000e+15 3.16227766e+17\n",
      " 1.00000000e+20]\n"
     ]
    }
   ],
   "source": [
    "import numpy as np  \n",
    "arr = np.logspace(10, 20, num = 5, endpoint = True)  \n",
    "print(\"The array over the given range is \",arr)  "
   ]
  },
  {
   "cell_type": "code",
   "execution_count": 25,
   "metadata": {},
   "outputs": [
    {
     "data": {
      "text/plain": [
       "array([1.        , 1.44444444, 1.88888889, 2.33333333, 2.77777778,\n",
       "       3.22222222, 3.66666667, 4.11111111, 4.55555556, 5.        ])"
      ]
     },
     "execution_count": 25,
     "metadata": {},
     "output_type": "execute_result"
    }
   ],
   "source": [
    "import numpy as np\n",
    "np.linspace(1.0, 5.0, num=10)"
   ]
  },
  {
   "cell_type": "markdown",
   "metadata": {},
   "source": [
    "## NumPy Data Types"
   ]
  },
  {
   "cell_type": "markdown",
   "metadata": {},
   "source": [
    "###### change the data type"
   ]
  },
  {
   "cell_type": "code",
   "execution_count": 78,
   "metadata": {},
   "outputs": [
    {
     "name": "stdout",
     "output_type": "stream",
     "text": [
      "[1. 3. 5. 7.]\n",
      "float64\n",
      "[1. 3. 5. 7.]\n"
     ]
    }
   ],
   "source": [
    "# change the dtype to 'float64'\n",
    "arr = arr.astype('float64')\n",
    "\n",
    "# Print the array after changing\n",
    "# the data type\n",
    "print(arr)\n",
    "\n",
    "# Also print the data type\n",
    "print(arr.dtype)\n",
    "\n",
    "tr=arr.T\n",
    "print(tr)\n"
   ]
  },
  {
   "cell_type": "code",
   "execution_count": 27,
   "metadata": {},
   "outputs": [
    {
     "name": "stdout",
     "output_type": "stream",
     "text": [
      "[ True False  True]\n",
      "bool\n"
     ]
    }
   ],
   "source": [
    "import numpy as np\n",
    "\n",
    "arr = np.array([1, 0, 3])\n",
    "\n",
    "newarr = arr.astype(bool)\n",
    "\n",
    "print(newarr)\n",
    "print(newarr.dtype)"
   ]
  },
  {
   "cell_type": "code",
   "execution_count": 28,
   "metadata": {},
   "outputs": [
    {
     "name": "stdout",
     "output_type": "stream",
     "text": [
      "[1.+0.j 2.+0.j 7.+0.j 4.+0.j]\n",
      "complex128\n"
     ]
    }
   ],
   "source": [
    "# change the dtype to 'complex128'\n",
    "arr = np.array([1,2,7,4])\n",
    "arr = arr = arr.astype('complex128')\n",
    "\n",
    "# Print the array after changing\n",
    "# the data type\n",
    "print(arr)\n",
    "\n",
    "# Also print the data type\n",
    "print(arr.dtype)\n"
   ]
  },
  {
   "cell_type": "code",
   "execution_count": 29,
   "metadata": {},
   "outputs": [
    {
     "name": "stdout",
     "output_type": "stream",
     "text": [
      "[42  2  3  4  5]\n",
      "[1 2 3 4 5]\n"
     ]
    }
   ],
   "source": [
    "import numpy as np\n",
    "\n",
    "arr = np.array([1, 2, 3, 4, 5])\n",
    "x = arr.copy()\n",
    "arr[0] = 42\n",
    "\n",
    "print(arr)\n",
    "print(x)"
   ]
  },
  {
   "cell_type": "code",
   "execution_count": 30,
   "metadata": {},
   "outputs": [
    {
     "name": "stdout",
     "output_type": "stream",
     "text": [
      "[42  2  3  4  5]\n",
      "[42  2  3  4  5]\n"
     ]
    }
   ],
   "source": [
    "import numpy as np\n",
    "\n",
    "arr = np.array([1, 2, 3, 4, 5])\n",
    "x = arr.view()\n",
    "arr[0] = 42\n",
    "\n",
    "print(arr)\n",
    "print(x)"
   ]
  },
  {
   "cell_type": "code",
   "execution_count": 31,
   "metadata": {},
   "outputs": [
    {
     "name": "stdout",
     "output_type": "stream",
     "text": [
      "None\n",
      "[1 2 3 4 5]\n"
     ]
    }
   ],
   "source": [
    "import numpy as np\n",
    "\n",
    "arr = np.array([1, 2, 3, 4, 5])\n",
    "\n",
    "x = arr.copy()\n",
    "y = arr.view()\n",
    "\n",
    "print(x.base)\n",
    "print(y.base)"
   ]
  },
  {
   "cell_type": "code",
   "execution_count": 32,
   "metadata": {},
   "outputs": [
    {
     "name": "stdout",
     "output_type": "stream",
     "text": [
      "(2, 4)\n"
     ]
    }
   ],
   "source": [
    "import numpy as np\n",
    "\n",
    "arr = np.array([[1, 2, 3, 4], [5, 6, 7, 8]])\n",
    "\n",
    "print(arr.shape)"
   ]
  },
  {
   "cell_type": "markdown",
   "metadata": {},
   "source": [
    "#### array shaping"
   ]
  },
  {
   "cell_type": "code",
   "execution_count": 33,
   "metadata": {},
   "outputs": [
    {
     "name": "stdout",
     "output_type": "stream",
     "text": [
      "(2, 4)\n"
     ]
    }
   ],
   "source": [
    "import numpy as np\n",
    "\n",
    "arr = np.array([[1, 2, 3, 4], [5, 6, 7, 8]])\n",
    "\n",
    "print(arr.shape)"
   ]
  },
  {
   "cell_type": "code",
   "execution_count": 34,
   "metadata": {},
   "outputs": [
    {
     "name": "stdout",
     "output_type": "stream",
     "text": [
      "[[[[[1 2 3 4]]]]]\n",
      "shape of array : (1, 1, 1, 1, 4)\n"
     ]
    }
   ],
   "source": [
    "import numpy as np\n",
    "\n",
    "arr = np.array([1, 2, 3, 4], ndmin=5)\n",
    "\n",
    "print(arr)\n",
    "print('shape of array :', arr.shape)"
   ]
  },
  {
   "cell_type": "code",
   "execution_count": 35,
   "metadata": {},
   "outputs": [
    {
     "data": {
      "text/plain": [
       "(5, 4)"
      ]
     },
     "execution_count": 35,
     "metadata": {},
     "output_type": "execute_result"
    }
   ],
   "source": [
    "import numpy as np\n",
    "arr = np.array([[1,3,2,4],[9,4,1,0],[9,5,2,99],[5,3,1,3],[3,7,5,2]])\n",
    "arr.shape"
   ]
  },
  {
   "cell_type": "markdown",
   "metadata": {},
   "source": [
    "##### reshape"
   ]
  },
  {
   "cell_type": "code",
   "execution_count": 36,
   "metadata": {},
   "outputs": [
    {
     "name": "stdout",
     "output_type": "stream",
     "text": [
      "the one dimensional array is: [ 1  2  3  4  5  6  7  8  9 10 11 12]\n",
      "the reshaped-4dim array is: [[ 1  2  3]\n",
      " [ 4  5  6]\n",
      " [ 7  8  9]\n",
      " [10 11 12]]\n"
     ]
    }
   ],
   "source": [
    "import numpy as np\n",
    "\n",
    "arr = np.array([1, 2, 3, 4, 5, 6, 7, 8, 9, 10, 11, 12])\n",
    "print(\"the one dimensional array is:\",arr)\n",
    "newarr = arr.reshape(4, 3)\n",
    "\n",
    "print(\"the reshaped-4dim array is:\",newarr)"
   ]
  },
  {
   "cell_type": "code",
   "execution_count": 81,
   "metadata": {},
   "outputs": [
    {
     "name": "stdout",
     "output_type": "stream",
     "text": [
      "the new ary is:\n",
      " [[[ 1  2]\n",
      "  [ 3  4]\n",
      "  [ 5  6]]\n",
      "\n",
      " [[ 7  8]\n",
      "  [ 9 10]\n",
      "  [11 12]]]\n",
      "the transpose is:\n",
      " [[[ 1  7]\n",
      "  [ 3  9]\n",
      "  [ 5 11]]\n",
      "\n",
      " [[ 2  8]\n",
      "  [ 4 10]\n",
      "  [ 6 12]]]\n"
     ]
    }
   ],
   "source": [
    "import numpy as np\n",
    "\n",
    "arr = np.array([1, 2, 3, 4, 5, 6, 7, 8, 9, 10, 11, 12])\n",
    "\n",
    "# 3 dim array\n",
    "newarr = arr.reshape(2, 3, 2)\n",
    "print(\"the new ary is:\\n\",newarr)\n",
    "\n",
    "newarr_t = newarr.T\n",
    "print(\"the transpose is:\\n\",newarr.T)"
   ]
  },
  {
   "cell_type": "code",
   "execution_count": 38,
   "metadata": {},
   "outputs": [
    {
     "name": "stdout",
     "output_type": "stream",
     "text": [
      "[1 2 3 4 5 6 7 8]\n"
     ]
    }
   ],
   "source": [
    "import numpy as np\n",
    "\n",
    "arr = np.array([1, 2, 3, 4, 5, 6, 7, 8])\n",
    "\n",
    "print(arr.reshape(2, 4).base)"
   ]
  },
  {
   "cell_type": "markdown",
   "metadata": {},
   "source": [
    "##### sum"
   ]
  },
  {
   "cell_type": "code",
   "execution_count": 16,
   "metadata": {},
   "outputs": [
    {
     "name": "stdout",
     "output_type": "stream",
     "text": [
      "the array-Q is:\n",
      " [[52 52 88 67 39 74]\n",
      " [37 58 12 87 49 75]]\n",
      "the sum of Q elements is:\n",
      " [ 89 110 100 154  88 149]\n",
      "the std is:\n",
      " [5.625e+01 9.000e+00 1.444e+03 1.000e+02 2.500e+01 2.500e-01]\n",
      "the std is:\n",
      " [262.33333333 603.        ]\n",
      "the variance is:\n",
      " [5.625e+01 9.000e+00 1.444e+03 1.000e+02 2.500e+01 2.500e-01]\n",
      "the variance is:\n",
      " [262.33333333 603.        ]\n",
      "the aliter\n",
      " [262.33333333 603.        ]\n"
     ]
    }
   ],
   "source": [
    "import numpy as np\n",
    "\n",
    "Q=np.array([[52,52,88,67,39,74],[37,58,12,87,49,75]])\n",
    "print(\"the array-Q is:\\n\",Q)\n",
    "\n",
    "add=Q.sum(axis=0)\n",
    "# axis=1-->add all rows nd col separately\n",
    "# axis=0--->adds all the row with col,separately\n",
    "print(\"the sum of Q elements is:\\n\",add)\n",
    "\n",
    "\n",
    "# std \n",
    "print (\"the std is:\\n\",Q.var(axis=0))\n",
    "print (\"the std is:\\n\",Q.var(axis=1))\n",
    "\n",
    "# var\n",
    "print(\"the variance is:\\n\",Q.var(axis=0))\n",
    "print(\"the variance is:\\n\",Q.var(axis=1))\n",
    "\n",
    "print(\"the aliter\\n\",np.var(Q,axis=1))"
   ]
  },
  {
   "cell_type": "code",
   "execution_count": null,
   "metadata": {},
   "outputs": [],
   "source": []
  },
  {
   "cell_type": "markdown",
   "metadata": {},
   "source": [
    "### iterating"
   ]
  },
  {
   "cell_type": "code",
   "execution_count": 39,
   "metadata": {},
   "outputs": [
    {
     "name": "stdout",
     "output_type": "stream",
     "text": [
      "1\n",
      "2\n",
      "3\n"
     ]
    }
   ],
   "source": [
    "import numpy as np\n",
    "\n",
    "arr = np.array([1, 2, 3])\n",
    "\n",
    "for x in arr:\n",
    "  print(x)"
   ]
  },
  {
   "cell_type": "code",
   "execution_count": 40,
   "metadata": {},
   "outputs": [
    {
     "name": "stdout",
     "output_type": "stream",
     "text": [
      "[1 2 3]\n",
      "[4 5 6]\n"
     ]
    }
   ],
   "source": [
    "import numpy as np\n",
    "\n",
    "arr = np.array([[1, 2, 3], [4, 5, 6]])\n",
    "\n",
    "for x in arr:\n",
    "  print(x)"
   ]
  },
  {
   "cell_type": "code",
   "execution_count": 41,
   "metadata": {},
   "outputs": [
    {
     "name": "stdout",
     "output_type": "stream",
     "text": [
      "1\n",
      "2\n",
      "3\n",
      "4\n",
      "5\n",
      "6\n"
     ]
    }
   ],
   "source": [
    "import numpy as np\n",
    "\n",
    "arr = np.array([[1, 2, 3], [4, 5, 6]])\n",
    "\n",
    "for x in arr:\n",
    "  for y in x:\n",
    "    print(y)"
   ]
  },
  {
   "cell_type": "markdown",
   "metadata": {},
   "source": [
    "#### eye method"
   ]
  },
  {
   "cell_type": "code",
   "execution_count": 42,
   "metadata": {},
   "outputs": [
    {
     "name": "stdout",
     "output_type": "stream",
     "text": [
      "Matrix b : \n",
      " [[1. 0.]\n",
      " [0. 1.]]\n",
      "\n",
      "Matrix a : \n",
      " [[0. 0. 0. 0. 0.]\n",
      " [1. 0. 0. 0. 0.]\n",
      " [0. 1. 0. 0. 0.]\n",
      " [0. 0. 1. 0. 0.]]\n"
     ]
    }
   ],
   "source": [
    "# numpy.eye method\n",
    "\n",
    "import numpy as array\n",
    "\n",
    "# 2x2 matrix with 1's on main diagnol\n",
    "b = array.eye(2, dtype = float)\n",
    "print(\"Matrix b : \\n\", b)\n",
    "\n",
    "# matrix with R=4 C=5 and 1 on diagnol\n",
    "# below main diagnol\n",
    "a = array.eye(4, 5, k = -1)\n",
    "print(\"\\nMatrix a : \\n\", a)\n"
   ]
  },
  {
   "cell_type": "markdown",
   "metadata": {},
   "source": [
    "##### gaussian array"
   ]
  },
  {
   "cell_type": "code",
   "execution_count": 43,
   "metadata": {},
   "outputs": [
    {
     "name": "stdout",
     "output_type": "stream",
     "text": [
      "2D Gaussian array :\n",
      "\n",
      "[[0.36787944 0.44822088 0.51979489 0.57375342 0.60279818 0.60279818\n",
      "  0.57375342 0.51979489 0.44822088 0.36787944]\n",
      " [0.44822088 0.54610814 0.63331324 0.69905581 0.73444367 0.73444367\n",
      "  0.69905581 0.63331324 0.54610814 0.44822088]\n",
      " [0.51979489 0.63331324 0.73444367 0.81068432 0.85172308 0.85172308\n",
      "  0.81068432 0.73444367 0.63331324 0.51979489]\n",
      " [0.57375342 0.69905581 0.81068432 0.89483932 0.9401382  0.9401382\n",
      "  0.89483932 0.81068432 0.69905581 0.57375342]\n",
      " [0.60279818 0.73444367 0.85172308 0.9401382  0.98773022 0.98773022\n",
      "  0.9401382  0.85172308 0.73444367 0.60279818]\n",
      " [0.60279818 0.73444367 0.85172308 0.9401382  0.98773022 0.98773022\n",
      "  0.9401382  0.85172308 0.73444367 0.60279818]\n",
      " [0.57375342 0.69905581 0.81068432 0.89483932 0.9401382  0.9401382\n",
      "  0.89483932 0.81068432 0.69905581 0.57375342]\n",
      " [0.51979489 0.63331324 0.73444367 0.81068432 0.85172308 0.85172308\n",
      "  0.81068432 0.73444367 0.63331324 0.51979489]\n",
      " [0.44822088 0.54610814 0.63331324 0.69905581 0.73444367 0.73444367\n",
      "  0.69905581 0.63331324 0.54610814 0.44822088]\n",
      " [0.36787944 0.44822088 0.51979489 0.57375342 0.60279818 0.60279818\n",
      "  0.57375342 0.51979489 0.44822088 0.36787944]]\n"
     ]
    }
   ],
   "source": [
    "# Importing Numpy package\n",
    "import numpy as np\n",
    "\n",
    "# Initializing value of x-axis and y-axis\n",
    "# in the range -1 to 1\n",
    "x, y = np.meshgrid(np.linspace(-1,1,10), np.linspace(-1,1,10))\n",
    "dst = np.sqrt(x*x+y*y)\n",
    "\n",
    "# Intializing sigma and muu\n",
    "sigma = 1\n",
    "muu = 0.000\n",
    "\n",
    "# Calculating Gaussian array\n",
    "gauss = np.exp(-( (dst-muu)**2 / ( 2.0 * sigma**2 ) ) )\n",
    "\n",
    "print(\"2D Gaussian array :\\n\")\n",
    "print(gauss)\n"
   ]
  },
  {
   "cell_type": "code",
   "execution_count": 44,
   "metadata": {},
   "outputs": [
    {
     "name": "stdout",
     "output_type": "stream",
     "text": [
      "2D Gaussian array :\n",
      "\n",
      "[[0.01831564 0.03113609 0.0487813  0.07043526 0.09372907 0.11494916\n",
      "  0.12992261 0.13533528 0.12992261 0.11494916 0.09372907 0.07043526\n",
      "  0.0487813  0.03113609 0.01831564]\n",
      " [0.03113609 0.0529305  0.08292689 0.11973803 0.15933686 0.19541045\n",
      "  0.2208649  0.2300663  0.2208649  0.19541045 0.15933686 0.11973803\n",
      "  0.08292689 0.0529305  0.03113609]\n",
      " [0.0487813  0.08292689 0.12992261 0.1875951  0.24963508 0.30615203\n",
      "  0.34603184 0.36044779 0.34603184 0.30615203 0.24963508 0.1875951\n",
      "  0.12992261 0.08292689 0.0487813 ]\n",
      " [0.07043526 0.11973803 0.1875951  0.27086833 0.36044779 0.44205254\n",
      "  0.49963495 0.52045012 0.49963495 0.44205254 0.36044779 0.27086833\n",
      "  0.1875951  0.11973803 0.07043526]\n",
      " [0.09372907 0.15933686 0.24963508 0.36044779 0.47965227 0.58824471\n",
      "  0.66487032 0.69256932 0.66487032 0.58824471 0.47965227 0.36044779\n",
      "  0.24963508 0.15933686 0.09372907]\n",
      " [0.11494916 0.19541045 0.30615203 0.44205254 0.58824471 0.72142229\n",
      "  0.81539581 0.84936582 0.81539581 0.72142229 0.58824471 0.44205254\n",
      "  0.30615203 0.19541045 0.11494916]\n",
      " [0.12992261 0.2208649  0.34603184 0.49963495 0.66487032 0.81539581\n",
      "  0.92161045 0.96000544 0.92161045 0.81539581 0.66487032 0.49963495\n",
      "  0.34603184 0.2208649  0.12992261]\n",
      " [0.13533528 0.2300663  0.36044779 0.52045012 0.69256932 0.84936582\n",
      "  0.96000544 1.         0.96000544 0.84936582 0.69256932 0.52045012\n",
      "  0.36044779 0.2300663  0.13533528]\n",
      " [0.12992261 0.2208649  0.34603184 0.49963495 0.66487032 0.81539581\n",
      "  0.92161045 0.96000544 0.92161045 0.81539581 0.66487032 0.49963495\n",
      "  0.34603184 0.2208649  0.12992261]\n",
      " [0.11494916 0.19541045 0.30615203 0.44205254 0.58824471 0.72142229\n",
      "  0.81539581 0.84936582 0.81539581 0.72142229 0.58824471 0.44205254\n",
      "  0.30615203 0.19541045 0.11494916]\n",
      " [0.09372907 0.15933686 0.24963508 0.36044779 0.47965227 0.58824471\n",
      "  0.66487032 0.69256932 0.66487032 0.58824471 0.47965227 0.36044779\n",
      "  0.24963508 0.15933686 0.09372907]\n",
      " [0.07043526 0.11973803 0.1875951  0.27086833 0.36044779 0.44205254\n",
      "  0.49963495 0.52045012 0.49963495 0.44205254 0.36044779 0.27086833\n",
      "  0.1875951  0.11973803 0.07043526]\n",
      " [0.0487813  0.08292689 0.12992261 0.1875951  0.24963508 0.30615203\n",
      "  0.34603184 0.36044779 0.34603184 0.30615203 0.24963508 0.1875951\n",
      "  0.12992261 0.08292689 0.0487813 ]\n",
      " [0.03113609 0.0529305  0.08292689 0.11973803 0.15933686 0.19541045\n",
      "  0.2208649  0.2300663  0.2208649  0.19541045 0.15933686 0.11973803\n",
      "  0.08292689 0.0529305  0.03113609]\n",
      " [0.01831564 0.03113609 0.0487813  0.07043526 0.09372907 0.11494916\n",
      "  0.12992261 0.13533528 0.12992261 0.11494916 0.09372907 0.07043526\n",
      "  0.0487813  0.03113609 0.01831564]]\n"
     ]
    }
   ],
   "source": [
    "# Importing Numpy package\n",
    "import numpy as np\n",
    "\n",
    "# Initializing value of x-axis and y-axis\n",
    "# in the range -2 to +2\n",
    "x, y = np.meshgrid(np.linspace(-2,2,15), np.linspace(-2,2,15))\n",
    "dst = np.sqrt(x*x+y*y)\n",
    "\n",
    "# Intializing sigma and muu\n",
    "sigma = 1\n",
    "muu = 0.000\n",
    "\n",
    "# Calculating Gaussian array\n",
    "gauss = np.exp(-( (dst-muu)**2 / ( 2.0 * sigma**2 ) ) )\n",
    "\n",
    "print(\"2D Gaussian array :\\n\")\n",
    "print(gauss)\n"
   ]
  },
  {
   "cell_type": "markdown",
   "metadata": {},
   "source": [
    "##### empty and full array"
   ]
  },
  {
   "cell_type": "code",
   "execution_count": 82,
   "metadata": {},
   "outputs": [
    {
     "name": "stdout",
     "output_type": "stream",
     "text": [
      "Empty Array\n",
      "[[ 1  2  3  4]\n",
      " [ 5  6  7  8]\n",
      " [ 9 10 11 12]]\n",
      "transpose is:\n",
      " [[ 1  5  9]\n",
      " [ 2  6 10]\n",
      " [ 3  7 11]\n",
      " [ 4  8 12]]\n",
      "\n",
      " Full Array\n",
      "[[55 55 55]\n",
      " [55 55 55]\n",
      " [55 55 55]]\n"
     ]
    }
   ],
   "source": [
    "# python program to create\n",
    "# Empty and Full Numpy arrays\n",
    "\n",
    "import numpy as np\n",
    "\n",
    "\n",
    "# Create an empty array\n",
    "empa = np.empty((3, 4), dtype=int)\n",
    "print(\"Empty Array\")\n",
    "print(empa)\n",
    "\n",
    "emp_tp=empa.T\n",
    "print(\"transpose is:\\n\",emp_tp)\n",
    "\n",
    "# Create a full array\n",
    "flla = np.full([3, 3], 55, dtype=int)\n",
    "print(\"\\n Full Array\")\n",
    "print(flla)\n"
   ]
  },
  {
   "cell_type": "code",
   "execution_count": 46,
   "metadata": {},
   "outputs": [
    {
     "name": "stdout",
     "output_type": "stream",
     "text": [
      "Empty Array\n",
      "[[1. 0.]\n",
      " [2. 0.]\n",
      " [7. 0.]\n",
      " [4. 0.]]\n",
      "\n",
      " Full Array\n",
      "[[95 95 95]\n",
      " [95 95 95]\n",
      " [95 95 95]\n",
      " [95 95 95]]\n"
     ]
    }
   ],
   "source": [
    "# python program to create\n",
    "# Empty and Full Numpy arrays\n",
    "\n",
    "import numpy as np\n",
    "\n",
    "\n",
    "# Create an empty array\n",
    "empa = np.empty([4, 2])\n",
    "print(\"Empty Array\")\n",
    "print(empa)\n",
    "\n",
    "# Create a full array\n",
    "flla = np.full([4, 3], 95)\n",
    "print(\"\\n Full Array\")\n",
    "print(flla)\n"
   ]
  },
  {
   "cell_type": "markdown",
   "metadata": {},
   "source": [
    "##### record()"
   ]
  },
  {
   "cell_type": "code",
   "execution_count": 47,
   "metadata": {},
   "outputs": [
    {
     "name": "stdout",
     "output_type": "stream",
     "text": [
      "['Jitender' 'Deepak']\n"
     ]
    }
   ],
   "source": [
    "# import numpy\n",
    "import numpy as np\n",
    "\n",
    "# using numpy.core.fromrecords() method\n",
    "gfg = np.core.records.fromrecords([(101, 'Jitender', 21),\n",
    "\t\t\t\t\t\t\t\t\t(102, 'Deepak', 20)],\n",
    "\t\t\t\t\t\t\tnames = 'Rollno, Name, Age')\n",
    "\n",
    "print(gfg.Name)\n"
   ]
  },
  {
   "cell_type": "code",
   "execution_count": 48,
   "metadata": {},
   "outputs": [
    {
     "name": "stdout",
     "output_type": "stream",
     "text": [
      "(101, 'Jitender', 21)\n"
     ]
    }
   ],
   "source": [
    "# import numpy\n",
    "import numpy as np\n",
    "\n",
    "# using numpy.core.fromrecords() method\n",
    "gfg = np.core.records.fromrecords([(101, 'Jitender', 21),\n",
    "\t\t\t\t\t\t\t\t\t(102, 'Deepak', 20)],\n",
    "\t\t\t\t\t\t\tnames = 'Rollno, Name, Age')\n",
    "\n",
    "print(gfg[0])\n"
   ]
  },
  {
   "cell_type": "markdown",
   "metadata": {},
   "source": [
    "### Array Manipulation"
   ]
  },
  {
   "cell_type": "markdown",
   "metadata": {},
   "source": [
    "###### copy array from another array"
   ]
  },
  {
   "cell_type": "code",
   "execution_count": 49,
   "metadata": {},
   "outputs": [
    {
     "name": "stdout",
     "output_type": "stream",
     "text": [
      "Original array: \n",
      "[ 13  99 100  34  65  11  66  81 632  44]\n",
      "\n",
      "Copy of the given array: \n",
      "[ 13  99 100  34  65  11  66  81 632  44]\n"
     ]
    }
   ],
   "source": [
    "# importing Numpy package\n",
    "import numpy as np\n",
    "\n",
    "# Creating a numpy array using np.array()\n",
    "ary = np.array([13, 99, 100, 34, 65, 11,\n",
    "\t\t\t\t66, 81, 632, 44])\n",
    "\n",
    "print(\"Original array: \")\n",
    "\n",
    "# printing the Numpy array\n",
    "print(ary)\n",
    "\n",
    "# Creating an empty Numpy array similar\n",
    "# to ary\n",
    "copy = np.empty_like(ary)\n",
    "\n",
    "# Now assign ary to copy\n",
    "copy[:] = ary\n",
    "\n",
    "print(\"\\nCopy of the given array: \")\n",
    "\n",
    "# printing the copied array\n",
    "print(copy)\n"
   ]
  },
  {
   "cell_type": "code",
   "execution_count": 50,
   "metadata": {},
   "outputs": [
    {
     "name": "stdout",
     "output_type": "stream",
     "text": [
      "Original array: \n",
      "[[23 46 85]\n",
      " [43 56 99]\n",
      " [11 34 55]]\n",
      "\n",
      "Copied array: \n",
      "[[23 46 85]\n",
      " [43 56 99]\n",
      " [11 34 55]]\n"
     ]
    }
   ],
   "source": [
    "# importing Numpy package\n",
    "import numpy as np\n",
    "\n",
    "# Creating a 3-D numpy array using np.array()\n",
    "org_array = np.array([[23, 46, 85],\n",
    "\t\t\t\t\t[43, 56, 99],\n",
    "\t\t\t\t\t[11, 34, 55]])\n",
    "\n",
    "print(\"Original array: \")\n",
    "\n",
    "# printing the Numpy array\n",
    "print(org_array)\n",
    "\n",
    "# Now copying the org_array to copy_array\n",
    "# using np.copy() function\n",
    "copy_array = np.copy(org_array)\n",
    "\n",
    "print(\"\\nCopied array: \")\n",
    "\n",
    "# printing the copied Numpy array\n",
    "print(copy_array)\n"
   ]
  },
  {
   "cell_type": "markdown",
   "metadata": {},
   "source": [
    "##### append element in array"
   ]
  },
  {
   "cell_type": "code",
   "execution_count": 51,
   "metadata": {},
   "outputs": [
    {
     "name": "stdout",
     "output_type": "stream",
     "text": [
      "Original Array :  [1 8 3 3 5]\n",
      "Array after appending :  [1 8 3 3 5 7]\n"
     ]
    }
   ],
   "source": [
    "# importing the module\n",
    "import numpy as np\n",
    "\n",
    "# creating an array\n",
    "arr = np.array([1, 8, 3, 3, 5])\n",
    "print('Original Array : ', arr)\n",
    "\n",
    "# appending to the array\n",
    "arr = np.append(arr, [7])\n",
    "print('Array after appending : ', arr)\n"
   ]
  },
  {
   "cell_type": "code",
   "execution_count": 52,
   "metadata": {},
   "outputs": [
    {
     "name": "stdout",
     "output_type": "stream",
     "text": [
      "First array is :  [1 2 3]\n",
      "Second array is :  [4 5 6]\n",
      "Array after appending :  [1 2 3 4 5 6]\n"
     ]
    }
   ],
   "source": [
    "# importing the module\n",
    "import numpy as np\n",
    "\n",
    "# creating an array\n",
    "arr1 = np.array([1, 2, 3])\n",
    "print('First array is : ', arr1)\n",
    "\n",
    "# creating another array\n",
    "arr2 = np.array([4, 5, 6])\n",
    "print('Second array is : ', arr2)\n",
    "\n",
    "# appending arr2 to arr1\n",
    "arr = np.append(arr1, arr2)\n",
    "print('Array after appending : ', arr)\n"
   ]
  },
  {
   "cell_type": "code",
   "execution_count": 53,
   "metadata": {},
   "outputs": [
    {
     "name": "stdout",
     "output_type": "stream",
     "text": [
      "Original Array\n",
      "[[ 1  2  3  4  5  6]\n",
      " [ 7  8  9 10 11 12]] \n",
      "\n",
      "Array to be appended column wise\n",
      "[[ 5  6  7  8  9 10]]\n",
      "Array after appending the values column wise\n",
      "[[ 1  2  3  4  5  6]\n",
      " [ 7  8  9 10 11 12]\n",
      " [ 5  6  7  8  9 10]] \n",
      "\n",
      "Array to be appended row wise\n",
      "[[1]\n",
      " [2]]\n",
      "Array after appending the values row wise\n",
      "[[ 1  2  3  4  5  6  1]\n",
      " [ 7  8  9 10 11 12  2]]\n"
     ]
    }
   ],
   "source": [
    "# importing the module\n",
    "import numpy as np\n",
    "\n",
    "# create an array\n",
    "arr = np.arange(1, 13).reshape(2, 6)\n",
    "print('Original Array')\n",
    "print(arr, '\\n')\n",
    "\n",
    "# create another array which is\n",
    "# to be appended column-wise\n",
    "col = np.arange(5, 11).reshape(1, 6)\n",
    "print('Array to be appended column wise')\n",
    "print(col)\n",
    "arr_col = np.append(arr, col, axis = 0)\n",
    "print('Array after appending the values column wise')\n",
    "print(arr_col, '\\n')\n",
    "\n",
    "# create an array which is\n",
    "# to be appended row wise\n",
    "row = np.array([1, 2]).reshape(2, 1)\n",
    "print('Array to be appended row wise')\n",
    "print(row)\n",
    "arr_row = np.append(arr, row, axis = 1)\n",
    "print('Array after appending the values row wise')\n",
    "print(arr_row)\n"
   ]
  },
  {
   "cell_type": "markdown",
   "metadata": {},
   "source": [
    "###### Swapping the column of an array"
   ]
  },
  {
   "cell_type": "code",
   "execution_count": 54,
   "metadata": {},
   "outputs": [
    {
     "name": "stdout",
     "output_type": "stream",
     "text": [
      "Original array:\n",
      "[[ 0  1  2]\n",
      " [ 3  4  5]\n",
      " [ 6  7  8]\n",
      " [ 9 10 11]]\n",
      "After swapping arrays the last column and first column:\n",
      "[[ 2  1  0]\n",
      " [ 5  4  3]\n",
      " [ 8  7  6]\n",
      " [11 10  9]]\n"
     ]
    }
   ],
   "source": [
    "# importing Module\n",
    "import numpy as np\n",
    "\n",
    "\n",
    "# creating array with shape(4,3)\n",
    "my_array = np.arange(12).reshape(4, 3)\n",
    "print(\"Original array:\")\n",
    "print(my_array)\n",
    "\n",
    "# swapping the column with index of\n",
    "# original array\n",
    "my_array[:, [2, 0]] = my_array[:, [0, 2]]\n",
    "print(\"After swapping arrays the last column and first column:\")\n",
    "print(my_array)\n"
   ]
  },
  {
   "cell_type": "markdown",
   "metadata": {},
   "source": [
    "##### numpy.vstack() function is used to stack the sequence of input arrays vertically to make a single array."
   ]
  },
  {
   "cell_type": "code",
   "execution_count": 55,
   "metadata": {},
   "outputs": [
    {
     "name": "stdout",
     "output_type": "stream",
     "text": [
      "1st Input array : \n",
      " [[ 1  2  3]\n",
      " [-1 -2 -3]]\n",
      "2nd Input array : \n",
      " [[ 4  5  6]\n",
      " [-4 -5 -6]]\n",
      "Output stacked array :\n",
      "  [[ 1  2  3]\n",
      " [-1 -2 -3]\n",
      " [ 4  5  6]\n",
      " [-4 -5 -6]]\n"
     ]
    }
   ],
   "source": [
    "# Python program explaining\n",
    "# vstack() function\n",
    "\n",
    "import numpy as geek\n",
    "\n",
    "# input array\n",
    "in_arr1 = geek.array([[ 1, 2, 3], [ -1, -2, -3]] )\n",
    "print (\"1st Input array : \\n\", in_arr1)\n",
    "\n",
    "in_arr2 = geek.array([[ 4, 5, 6], [ -4, -5, -6]] )\n",
    "print (\"2nd Input array : \\n\", in_arr2)\n",
    "\n",
    "# Stacking the two arrays vertically\n",
    "out_arr = geek.vstack((in_arr1, in_arr2))\n",
    "print (\"Output stacked array :\\n \", out_arr)\n"
   ]
  },
  {
   "cell_type": "code",
   "execution_count": 56,
   "metadata": {},
   "outputs": [
    {
     "name": "stdout",
     "output_type": "stream",
     "text": [
      "1st Input array : \n",
      " [[ 1  2  3]\n",
      " [-1 -2 -3]]\n",
      "2nd Input array : \n",
      " [[ 4  5  6]\n",
      " [-4 -5 -6]]\n",
      "Output stacked array :\n",
      "  [[ 1  2  3  4  5  6]\n",
      " [-1 -2 -3 -4 -5 -6]]\n"
     ]
    }
   ],
   "source": [
    "# Python program explaining\n",
    "# hstack() function\n",
    "\n",
    "import numpy as geek\n",
    "\n",
    "# input array\n",
    "in_arr1 = geek.array([[ 1, 2, 3], [ -1, -2, -3]] )\n",
    "print (\"1st Input array : \\n\", in_arr1)\n",
    "\n",
    "in_arr2 = geek.array([[ 4, 5, 6], [ -4, -5, -6]] )\n",
    "print (\"2nd Input array : \\n\", in_arr2)\n",
    "\n",
    "# Stacking the two arrays horizontally\n",
    "out_arr = geek.hstack((in_arr1, in_arr2))\n",
    "print (\"Output stacked array :\\n \", out_arr)\n"
   ]
  },
  {
   "cell_type": "code",
   "execution_count": 57,
   "metadata": {},
   "outputs": [
    {
     "name": "stdout",
     "output_type": "stream",
     "text": [
      "the 1st block:\n",
      " [[1 1]\n",
      " [1 1]]\n",
      "the 2nd block:\n",
      " [[2 2 2]\n",
      " [2 2 2]]\n",
      "the 3rd block:\n",
      " [[3 3]\n",
      " [3 3]\n",
      " [3 3]]\n",
      "the 4th block:\n",
      " [[4 4 4]\n",
      " [4 4 4]\n",
      " [4 4 4]]\n",
      "the new block is :\n",
      " [[1 1 2 2 2]\n",
      " [1 1 2 2 2]\n",
      " [3 3 4 4 4]\n",
      " [3 3 4 4 4]\n",
      " [3 3 4 4 4]]\n"
     ]
    }
   ],
   "source": [
    "import numpy as np\n",
    "\n",
    "block_1 = np.array([[1, 1], [1, 1]])\n",
    "block_2 = np.array([[2, 2, 2], [2, 2, 2]])\n",
    "block_3 = np.array([[3, 3], [3, 3], [3, 3]])\n",
    "block_4 = np.array([[4, 4, 4], [4, 4, 4], [4, 4, 4]])\n",
    "\n",
    "block_new = np.block([\n",
    "\t[block_1, block_2],\n",
    "\t[block_3, block_4]\n",
    "])\n",
    "\n",
    "\n",
    "print(\"the 1st block:\\n\",block_1)\n",
    "print(\"the 2nd block:\\n\",block_2)\n",
    "print(\"the 3rd block:\\n\",block_3)\n",
    "print(\"the 4th block:\\n\",block_4)\n",
    "print(\"the new block is :\\n\",block_new)\n"
   ]
  },
  {
   "cell_type": "code",
   "execution_count": 58,
   "metadata": {},
   "outputs": [
    {
     "name": "stdout",
     "output_type": "stream",
     "text": [
      "array1 \n",
      "[[1 2 3]\n",
      " [4 5 6]]\n",
      "array2  [ 0  5 10]\n",
      "Union of two arrays [ 0  1  2  3  4  5  6 10]\n"
     ]
    }
   ],
   "source": [
    "\n",
    "import numpy as np\n",
    "\n",
    "\n",
    "# 2-d array\n",
    "arr1 = np.array([[1, 2, 3], [4, 5, 6]])\n",
    "print(\"array1 \")\n",
    "print(arr1)\n",
    "\n",
    "arr2 = np.array([0, 5, 10])\n",
    "print(\"array2 \", arr2)\n",
    "\n",
    "# print union of 2-d array and 1-d array\n",
    "print(\"Union of two arrays\", np.union1d(arr1, arr2))\n"
   ]
  },
  {
   "cell_type": "markdown",
   "metadata": {},
   "source": [
    "###### unique"
   ]
  },
  {
   "cell_type": "code",
   "execution_count": 59,
   "metadata": {},
   "outputs": [
    {
     "name": "stdout",
     "output_type": "stream",
     "text": [
      "Original Array :\n",
      "[[11 11 12 11]\n",
      " [13 11 12 11]\n",
      " [16 11 12 11]\n",
      " [11 11 12 11]]\n",
      "Unique Rows:\n",
      "[[11 11 12 11]\n",
      " [13 11 12 11]\n",
      " [16 11 12 11]]\n"
     ]
    }
   ],
   "source": [
    "import numpy as np\n",
    "\n",
    "# Create a 2D numpy array\n",
    "arr2D = np.array([[11, 11, 12, 11],\n",
    "\t\t\t\t\t[13, 11, 12, 11],\n",
    "\t\t\t\t\t[16, 11, 12, 11],\n",
    "\t\t\t\t\t[11, 11, 12, 11]])\n",
    "\n",
    "print('Original Array :' ,\n",
    "\tarr2D, sep = '\\n')\n",
    "\n",
    "# Get unique rows from\n",
    "# complete 2D-array by\n",
    "# passing axis = 0 in\n",
    "# unique function along\n",
    "# with 2D-array\n",
    "uniqueRows = np.unique(arr2D,\n",
    "\t\t\t\t\taxis = 0)\n",
    "\n",
    "# print the output result\n",
    "print('Unique Rows:',\n",
    "\tuniqueRows, sep = '\\n')\n"
   ]
  },
  {
   "cell_type": "code",
   "execution_count": 60,
   "metadata": {},
   "outputs": [
    {
     "name": "stdout",
     "output_type": "stream",
     "text": [
      "[ 1.   3.6  5.  10.  10.2 14.8 15.  21.4]\n"
     ]
    }
   ],
   "source": [
    "import numpy as np\n",
    "\n",
    "a = [[10.2, 21.4, 3.6, 14.8], [1.0, 5.0, 10.0, 15.0]]\n",
    "\n",
    "# using np.unique() method\n",
    "ary = np.unique(a)\n",
    "\n",
    "print(ary)\n"
   ]
  },
  {
   "cell_type": "code",
   "execution_count": 61,
   "metadata": {},
   "outputs": [
    {
     "name": "stdout",
     "output_type": "stream",
     "text": [
      "[ 1  5  7  0  6  2  9  0 10  0  0]\n"
     ]
    }
   ],
   "source": [
    "import numpy as geek\n",
    "gfg = geek.array((0, 0, 0, 0, 1, 5, 7, 0, 6, 2, 9, 0, 10, 0, 0))\n",
    "\n",
    "# without trim parameter\n",
    "# returns an array without any leading zeros\n",
    "\n",
    "res = geek.trim_zeros(gfg, 'f')\n",
    "# f for front\n",
    "print(res)\n"
   ]
  },
  {
   "cell_type": "code",
   "execution_count": 62,
   "metadata": {},
   "outputs": [
    {
     "name": "stdout",
     "output_type": "stream",
     "text": [
      "[ 0  0  0  0  1  5  7  0  6  2  9  0 10]\n"
     ]
    }
   ],
   "source": [
    "import numpy as geek\n",
    "gfg = geek.array((0, 0, 0, 0, 1, 5, 7, 0, 6, 2, 9, 0, 10, 0, 0))\n",
    "\n",
    "# without trim parameter\n",
    "# returns an array without any trailing zeros\n",
    "\n",
    "res = geek.trim_zeros(gfg, 'b')\n",
    "# b for back\n",
    "\n",
    "print(res)"
   ]
  },
  {
   "cell_type": "markdown",
   "metadata": {},
   "source": [
    "###### filter "
   ]
  },
  {
   "cell_type": "code",
   "execution_count": 63,
   "metadata": {},
   "outputs": [
    {
     "name": "stdout",
     "output_type": "stream",
     "text": [
      "[False, True, False, True, False, True, False]\n",
      "[2 4 6]\n"
     ]
    }
   ],
   "source": [
    "import numpy as np\n",
    "\n",
    "arr = np.array([1, 2, 3, 4, 5, 6, 7])\n",
    "\n",
    "# Create an empty list\n",
    "filter_arr = []\n",
    "\n",
    "# go through each element in arr\n",
    "for element in arr:\n",
    "  # if the element is completely divisble by 2, set the value to True, otherwise False\n",
    "  if element % 2 == 0:\n",
    "    filter_arr.append(True)\n",
    "  else:\n",
    "    filter_arr.append(False)\n",
    "\n",
    "newarr = arr[filter_arr]\n",
    "\n",
    "print(filter_arr)\n",
    "print(newarr)"
   ]
  },
  {
   "cell_type": "markdown",
   "metadata": {},
   "source": [
    "######  Creating Filter Directly From Array"
   ]
  },
  {
   "cell_type": "code",
   "execution_count": 64,
   "metadata": {},
   "outputs": [
    {
     "name": "stdout",
     "output_type": "stream",
     "text": [
      "[False False  True  True]\n",
      "[43 44]\n"
     ]
    }
   ],
   "source": [
    "import numpy as np\n",
    "\n",
    "arr = np.array([41, 42, 43, 44])\n",
    "\n",
    "filter_arr = arr > 42\n",
    "\n",
    "newarr = arr[filter_arr]\n",
    "\n",
    "print(filter_arr)\n",
    "print(newarr)"
   ]
  },
  {
   "cell_type": "markdown",
   "metadata": {},
   "source": [
    "###### search"
   ]
  },
  {
   "cell_type": "code",
   "execution_count": 65,
   "metadata": {},
   "outputs": [
    {
     "name": "stdout",
     "output_type": "stream",
     "text": [
      "(array([3, 5, 6], dtype=int64),)\n"
     ]
    }
   ],
   "source": [
    "import numpy as np\n",
    "\n",
    "arr = np.array([1, 2, 3, 4, 5, 4, 4])\n",
    "\n",
    "# Find the indexes where the value is 4:\n",
    "x = np.where(arr == 4)\n",
    "\n",
    "print(x)"
   ]
  },
  {
   "cell_type": "code",
   "execution_count": 66,
   "metadata": {},
   "outputs": [
    {
     "name": "stdout",
     "output_type": "stream",
     "text": [
      "(array([1, 3, 5, 7], dtype=int64),)\n"
     ]
    }
   ],
   "source": [
    "# Find the indexes where the values are even:\n",
    "\n",
    "import numpy as np\n",
    "\n",
    "arr = np.array([1, 2, 3, 4, 5, 6, 7, 8])\n",
    "x = np.where(arr%2 == 0)\n",
    "\n",
    "print(x)"
   ]
  },
  {
   "cell_type": "markdown",
   "metadata": {},
   "source": [
    "##### Search Sorted"
   ]
  },
  {
   "cell_type": "code",
   "execution_count": 67,
   "metadata": {},
   "outputs": [
    {
     "name": "stdout",
     "output_type": "stream",
     "text": [
      "1\n"
     ]
    }
   ],
   "source": [
    "# Find the indexes where the value 7 should be inserted:\n",
    "\n",
    "import numpy as np\n",
    "\n",
    "arr = np.array([6, 7, 8, 9])\n",
    "\n",
    "x = np.searchsorted(arr, 7)\n",
    "\n",
    "print(x)"
   ]
  },
  {
   "cell_type": "code",
   "execution_count": 68,
   "metadata": {},
   "outputs": [
    {
     "name": "stdout",
     "output_type": "stream",
     "text": [
      "2\n"
     ]
    }
   ],
   "source": [
    "# Find the indexes where the value 7 should be inserted, starting from the right:\n",
    "\n",
    "import numpy as np\n",
    "\n",
    "arr = np.array([6, 7, 8, 9])\n",
    "x = np.searchsorted(arr, 7, side='right')\n",
    "\n",
    "print(x)"
   ]
  },
  {
   "cell_type": "code",
   "execution_count": 69,
   "metadata": {},
   "outputs": [
    {
     "name": "stdout",
     "output_type": "stream",
     "text": [
      "[1 2 3]\n"
     ]
    }
   ],
   "source": [
    "# Find the indexes where the values 2, 4, and 6 should be inserted:\n",
    "\n",
    "import numpy as np\n",
    "\n",
    "arr = np.array([1, 3, 5, 7])\n",
    "\n",
    "x = np.searchsorted(arr, [2, 4, 6])\n",
    "\n",
    "print(x)"
   ]
  },
  {
   "cell_type": "markdown",
   "metadata": {},
   "source": [
    "### Random array"
   ]
  },
  {
   "cell_type": "code",
   "execution_count": 70,
   "metadata": {},
   "outputs": [
    {
     "name": "stdout",
     "output_type": "stream",
     "text": [
      "24\n"
     ]
    }
   ],
   "source": [
    "# Generate a random integer from 0 to 100:\n",
    "\n",
    "from numpy import random\n",
    "\n",
    "x = random.randint(100)\n",
    "\n",
    "print(x)"
   ]
  },
  {
   "cell_type": "code",
   "execution_count": 71,
   "metadata": {},
   "outputs": [
    {
     "name": "stdout",
     "output_type": "stream",
     "text": [
      "0.3916586547693858\n"
     ]
    }
   ],
   "source": [
    "# Generate a random float from 0 to 1:\n",
    "\n",
    "from numpy import random\n",
    "\n",
    "x = random.rand()\n",
    "\n",
    "print(x)"
   ]
  },
  {
   "cell_type": "code",
   "execution_count": 72,
   "metadata": {},
   "outputs": [
    {
     "name": "stdout",
     "output_type": "stream",
     "text": [
      "[[81 43 19 83 49]\n",
      " [44  4 97 72 69]\n",
      " [36 61 67 73 49]]\n"
     ]
    }
   ],
   "source": [
    "# Generate a 2-D array with 3 rows, each row containing 5 random integers from 0 to 100:\n",
    "\n",
    "from numpy import random\n",
    "\n",
    "x = random.randint(100, size=(3, 5))\n",
    "\n",
    "print(x)"
   ]
  },
  {
   "cell_type": "code",
   "execution_count": 73,
   "metadata": {},
   "outputs": [
    {
     "name": "stdout",
     "output_type": "stream",
     "text": [
      "3\n"
     ]
    }
   ],
   "source": [
    "# Return one of the values in an array:\n",
    "\n",
    "from numpy import random\n",
    "\n",
    "x = random.choice([3, 5, 7, 9])\n",
    "\n",
    "print(x)"
   ]
  },
  {
   "cell_type": "markdown",
   "metadata": {},
   "source": [
    "##### data distribution"
   ]
  },
  {
   "cell_type": "code",
   "execution_count": 74,
   "metadata": {},
   "outputs": [
    {
     "name": "stdout",
     "output_type": "stream",
     "text": [
      "[7 7 7 7 7 5 5 3 7 7 3 7 7 3 7 7 7 5 7 7 5 7 5 7 7 7 7 7 5 7 7 5 5 5 7 7 5\n",
      " 3 5 5 5 5 3 5 7 5 7 7 5 7 5 7 5 7 7 5 5 5 3 3 7 5 7 5 7 7 7 7 7 5 3 7 5 7\n",
      " 5 7 5 5 7 5 5 7 7 7 7 7 7 7 5 7 7 7 7 5 7 5 3 7 7 7]\n"
     ]
    }
   ],
   "source": [
    "# Generate a 1-D array containing 100 values, where each value has to be 3, 5, 7 or 9.\n",
    "\n",
    "# The probability for the value to be 3 is set to be 0.1\n",
    "\n",
    "# The probability for the value to be 5 is set to be 0.3\n",
    "\n",
    "# The probability for the value to be 7 is set to be 0.6\n",
    "\n",
    "# The probability for the value to be 9 is set to be 0\n",
    "\n",
    "from numpy import random\n",
    "\n",
    "x = random.choice([3, 5, 7, 9], p=[0.1, 0.3, 0.6, 0.0], size=(100))\n",
    "\n",
    "print(x)"
   ]
  },
  {
   "cell_type": "code",
   "execution_count": 75,
   "metadata": {},
   "outputs": [
    {
     "name": "stdout",
     "output_type": "stream",
     "text": [
      "[[7 7 7 7 5]\n",
      " [7 7 5 7 3]\n",
      " [7 7 7 7 7]]\n"
     ]
    }
   ],
   "source": [
    "# Same example as above, but return a 2-D array with 3 rows, each containing 5 values.\n",
    "\n",
    "from numpy import random\n",
    "\n",
    "x = random.choice([3, 5, 7, 9], p=[0.1, 0.3, 0.6, 0.0], size=(3, 5))\n",
    "\n",
    "print(x)"
   ]
  },
  {
   "cell_type": "code",
   "execution_count": 76,
   "metadata": {},
   "outputs": [
    {
     "ename": "AttributeError",
     "evalue": "'list' object has no attribute 'T'",
     "output_type": "error",
     "traceback": [
      "\u001b[1;31m---------------------------------------------------------------------------\u001b[0m",
      "\u001b[1;31mAttributeError\u001b[0m                            Traceback (most recent call last)",
      "\u001b[1;32m<ipython-input-76-54e74077fd53>\u001b[0m in \u001b[0;36m<module>\u001b[1;34m\u001b[0m\n\u001b[1;32m----> 1\u001b[1;33m \u001b[0ma\u001b[0m\u001b[1;33m.\u001b[0m\u001b[0mT\u001b[0m \u001b[1;31m# returns the array, transposed\u001b[0m\u001b[1;33m\u001b[0m\u001b[1;33m\u001b[0m\u001b[0m\n\u001b[0m\u001b[0;32m      2\u001b[0m array([[3., 1., 7.],\n\u001b[0;32m      3\u001b[0m \u001b[1;33m[\u001b[0m\u001b[1;36m7.\u001b[0m\u001b[1;33m,\u001b[0m \u001b[1;36m4.\u001b[0m\u001b[1;33m,\u001b[0m \u001b[1;36m2.\u001b[0m\u001b[1;33m]\u001b[0m\u001b[1;33m,\u001b[0m\u001b[1;33m\u001b[0m\u001b[1;33m\u001b[0m\u001b[0m\n\u001b[0;32m      4\u001b[0m \u001b[1;33m[\u001b[0m\u001b[1;36m3.\u001b[0m\u001b[1;33m,\u001b[0m \u001b[1;36m2.\u001b[0m\u001b[1;33m,\u001b[0m \u001b[1;36m4.\u001b[0m\u001b[1;33m]\u001b[0m\u001b[1;33m,\u001b[0m\u001b[1;33m\u001b[0m\u001b[1;33m\u001b[0m\u001b[0m\n\u001b[0;32m      5\u001b[0m [4., 2., 9.]])\n",
      "\u001b[1;31mAttributeError\u001b[0m: 'list' object has no attribute 'T'"
     ]
    }
   ],
   "source": [
    "a.T # returns the array, transposed\n",
    "array([[3., 1., 7.],\n",
    "[7., 4., 2.],\n",
    "[3., 2., 4.],\n",
    "[4., 2., 9.]])\n",
    "a.T.shape"
   ]
  },
  {
   "cell_type": "code",
   "execution_count": null,
   "metadata": {},
   "outputs": [],
   "source": []
  },
  {
   "cell_type": "code",
   "execution_count": null,
   "metadata": {},
   "outputs": [],
   "source": []
  },
  {
   "cell_type": "code",
   "execution_count": null,
   "metadata": {},
   "outputs": [],
   "source": []
  },
  {
   "cell_type": "code",
   "execution_count": null,
   "metadata": {},
   "outputs": [],
   "source": []
  },
  {
   "cell_type": "code",
   "execution_count": null,
   "metadata": {},
   "outputs": [],
   "source": []
  },
  {
   "cell_type": "code",
   "execution_count": null,
   "metadata": {},
   "outputs": [],
   "source": []
  },
  {
   "cell_type": "code",
   "execution_count": null,
   "metadata": {},
   "outputs": [],
   "source": []
  },
  {
   "cell_type": "markdown",
   "metadata": {},
   "source": [
    "## Matrix"
   ]
  },
  {
   "cell_type": "markdown",
   "metadata": {},
   "source": [
    "###### operations on matrices"
   ]
  },
  {
   "cell_type": "code",
   "execution_count": null,
   "metadata": {},
   "outputs": [],
   "source": [
    "# Python code to demonstrate matrix operations\n",
    "# add(), subtract() and divide()\n",
    "\n",
    "# importing numpy for matrix operations\n",
    "import numpy\n",
    "\n",
    "# initializing matrices\n",
    "x = numpy.array([[1, 2], [4, 5]])\n",
    "y = numpy.array([[7, 8], [9, 10]])\n",
    "\n",
    "# using add() to add matrices\n",
    "print (\"The element wise addition of matrix is : \")\n",
    "print (numpy.add(x,y))\n",
    "\n",
    "# using subtract() to subtract matrices\n",
    "print (\"The element wise subtraction of matrix is : \")\n",
    "print (numpy.subtract(x,y))\n",
    "\n",
    "# using divide() to divide matrices\n",
    "print (\"The element wise division of matrix is : \")\n",
    "print (numpy.divide(x,y))\n"
   ]
  },
  {
   "cell_type": "markdown",
   "metadata": {},
   "source": [
    "##### eigen values and eigen vectors "
   ]
  },
  {
   "cell_type": "code",
   "execution_count": 8,
   "metadata": {
    "scrolled": false
   },
   "outputs": [
    {
     "name": "stdout",
     "output_type": "stream",
     "text": [
      "the eigen value is :\n",
      " [4. 1.]\n",
      "the eigen vector is :\n",
      " [[ 0.70710678 -0.4472136 ]\n",
      " [ 0.70710678  0.89442719]]\n",
      "the lhs is:\n",
      " [2.82842712 2.82842712]\n",
      "the rhs is\n",
      " [2.82842712 2.82842712]\n",
      "True\n"
     ]
    }
   ],
   "source": [
    "import numpy as np\n",
    "\n",
    "a = np.array([[3, 1], [2, 2]])\n",
    "w, v = np.linalg.eig(a)\n",
    "\n",
    "print(\"the eigen value is :\\n\",w)\n",
    "print(\"the eigen vector is :\\n\",v)\n",
    "\n",
    "\n",
    "# to verify using the equation\n",
    "LHS=v[:,0] * w[0]\n",
    "print(\"the lhs is:\\n\",LHS)\n",
    "\n",
    "RHS=a @ v[:,0]\n",
    "print(\"the rhs is\\n\",RHS)\n",
    "\n",
    "# to check LHS RHS are equal\n",
    "print(np.allclose(np.dot(a,v[:,0]),np.dot(w[0],v[:,0])))"
   ]
  },
  {
   "cell_type": "markdown",
   "metadata": {},
   "source": [
    "##### example"
   ]
  },
  {
   "cell_type": "code",
   "execution_count": 11,
   "metadata": {},
   "outputs": [
    {
     "name": "stdout",
     "output_type": "stream",
     "text": [
      "[1500.  700.]\n"
     ]
    }
   ],
   "source": [
    "import numpy as np\n",
    "A =np.array([[1,1],[1.5,4.0]])\n",
    "b =np.array([2200,5050])\n",
    "\n",
    "np.linalg.solve(a,b)\n",
    "print(x)\n",
    "\n",
    "\n",
    "# alter\n",
    "x = np.linalg.inv(A).dot(b)\n",
    "print(x)"
   ]
  },
  {
   "cell_type": "code",
   "execution_count": null,
   "metadata": {},
   "outputs": [],
   "source": []
  }
 ],
 "metadata": {
  "kernelspec": {
   "display_name": "Python 3",
   "language": "python",
   "name": "python3"
  },
  "language_info": {
   "codemirror_mode": {
    "name": "ipython",
    "version": 3
   },
   "file_extension": ".py",
   "mimetype": "text/x-python",
   "name": "python",
   "nbconvert_exporter": "python",
   "pygments_lexer": "ipython3",
   "version": "3.8.5"
  }
 },
 "nbformat": 4,
 "nbformat_minor": 4
}
